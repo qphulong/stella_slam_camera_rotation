{
 "cells": [
  {
   "cell_type": "code",
   "execution_count": 1,
   "metadata": {},
   "outputs": [
    {
     "name": "stdout",
     "output_type": "stream",
     "text": [
      "Requirement already satisfied: opencv-python in ./venv/lib/python3.12/site-packages (4.10.0.84)\n",
      "Requirement already satisfied: opencv-python-headless in ./venv/lib/python3.12/site-packages (4.10.0.84)\n",
      "Requirement already satisfied: numpy>=1.21.2 in ./venv/lib/python3.12/site-packages (from opencv-python) (2.2.1)\n"
     ]
    }
   ],
   "source": [
    "!pip install opencv-python opencv-python-headless"
   ]
  },
  {
   "cell_type": "code",
   "execution_count": 2,
   "metadata": {},
   "outputs": [],
   "source": [
    "import subprocess\n",
    "def run_shell_command(command):\n",
    "    \"\"\"Helper function to run shell commands and handle errors.\"\"\"\n",
    "    result = subprocess.run(command, capture_output=True, text=True, shell=True)\n",
    "    if result.returncode != 0:\n",
    "        print(f\"Error: {result.stderr}\")\n",
    "    return result.stdout"
   ]
  },
  {
   "cell_type": "code",
   "execution_count": 4,
   "metadata": {},
   "outputs": [],
   "source": [
    "# run this command to start the container\n",
    "command = \"docker run -it --rm --privileged -e DISPLAY=$DISPLAY -v /tmp/.X11-unix/:/tmp/.X11-unix:ro stella_vslam-iridescense\""
   ]
  },
  {
   "cell_type": "code",
   "execution_count": 3,
   "metadata": {},
   "outputs": [
    {
     "name": "stdout",
     "output_type": "stream",
     "text": [
      "Getting the first Docker container ID...\n",
      "Container ID: 6ab7becb1dfb\n"
     ]
    }
   ],
   "source": [
    "# get the container id\n",
    "import subprocess\n",
    "print(\"Getting the first Docker container ID...\")\n",
    "container_id = subprocess.check_output(\"docker ps -q\", shell=True).decode().strip()\n",
    "print(f\"Container ID: {container_id}\")"
   ]
  },
  {
   "cell_type": "code",
   "execution_count": 21,
   "metadata": {},
   "outputs": [
    {
     "name": "stdout",
     "output_type": "stream",
     "text": [
      "{'fps': 30.0, 'cols': 1280, 'rows': 720}\n"
     ]
    }
   ],
   "source": [
    "import ffmpeg\n",
    "\n",
    "# Function to extract video metadata using ffmpeg\n",
    "def extract_video_metadata(video_path):\n",
    "    # Use ffmpeg.probe to retrieve metadata of the video\n",
    "    probe = ffmpeg._probe.probe(video_path, v='error', select_streams='v:0', show_entries='stream=width,height,r_frame_rate')\n",
    "    \n",
    "    # Extract relevant metadata from the probe results\n",
    "    video_stream = probe['streams'][0]\n",
    "    \n",
    "    # Extract FPS, width (cols), and height (rows)\n",
    "    fps = eval(video_stream['r_frame_rate'])  # 'r_frame_rate' is in the form of \"numerator/denominator\"\n",
    "    cols = video_stream['width']\n",
    "    rows = video_stream['height']\n",
    "    \n",
    "    return {\n",
    "        'fps': fps,\n",
    "        'cols': cols,\n",
    "        'rows': rows\n",
    "    }\n",
    "\n",
    "# Path to the video file\n",
    "video_name = input(\"Please enter the video file path: \")\n",
    "\n",
    "# Extract metadata\n",
    "video_metadata = extract_video_metadata('./input/'+video_name)\n",
    "print(video_metadata)\n"
   ]
  },
  {
   "cell_type": "code",
   "execution_count": 22,
   "metadata": {},
   "outputs": [
    {
     "name": "stdout",
     "output_type": "stream",
     "text": [
      "YAML file has been created at ./input/config.yaml\n"
     ]
    }
   ],
   "source": [
    "import yaml\n",
    "yaml_content = f\"\"\"\n",
    "# Equirectangular model for RICOH THETA S\n",
    "\n",
    "#==============#\n",
    "# Camera Model #\n",
    "#==============#\n",
    "\n",
    "Camera:\n",
    "  name: \"RICOH THETA S 960\"\n",
    "  setup: \"monocular\"\n",
    "  model: \"equirectangular\"  # Ensure this matches your camera's model\n",
    "  fps: {video_metadata['fps']}\n",
    "  cols:  {video_metadata['cols']}\n",
    "  rows:  {video_metadata['rows']}\n",
    "  color_order: \"RGB\"\n",
    "  # k1: 0.0\n",
    "  # k2: 0.0\n",
    "  # k3: 0.0\n",
    "  # p1: 0.0\n",
    "  # p2: 0.0\n",
    "  # fx: 500.0                           # Focal length in the x-direction\n",
    "  # fy: 500.0                           # Focal length in the y-direction\n",
    "  # cx: 960.0                           # Principal point x-coordinate (center of the image)\n",
    "  # cy: 540.0\n",
    "  baseline: 0.1   \n",
    "\n",
    "#================#\n",
    "# ORB Parameters #\n",
    "#================#\n",
    "\n",
    "Feature.max_num_keypoints: 2000\n",
    "Feature.scale_factor: 1.2\n",
    "Feature.num_levels: 8\n",
    "Feature.ini_fast_threshold: 20\n",
    "Feature.min_fast_threshold: 7\n",
    "Feature.mask_rectangles:\n",
    "  - [0.0, 1.0, 0.0, 0.1]\n",
    "  - [0.0, 1.0, 0.84, 1.0]\n",
    "  - [0.0, 0.2, 0.7, 1.0]\n",
    "  - [0.8, 1.0, 0.7, 1.0]\n",
    "\"\"\"\n",
    "\n",
    "# Write the content to a file\n",
    "file_path = './input/config.yaml'\n",
    "\n",
    "with open(file_path, 'w') as file:\n",
    "    file.write(yaml_content)\n",
    "\n",
    "print(f\"YAML file has been created at {file_path}\")\n"
   ]
  },
  {
   "cell_type": "code",
   "execution_count": 23,
   "metadata": {},
   "outputs": [
    {
     "name": "stdout",
     "output_type": "stream",
     "text": [
      "Copying inputs to container 6ab7becb1dfb...\n"
     ]
    },
    {
     "data": {
      "text/plain": [
       "CompletedProcess(args='docker cp ./input 6ab7becb1dfb:/stella_vslam_examples/build/input', returncode=0)"
      ]
     },
     "execution_count": 23,
     "metadata": {},
     "output_type": "execute_result"
    }
   ],
   "source": [
    "# copy video and config to container\n",
    "print(f\"Copying inputs to container {container_id}...\")\n",
    "subprocess.run(\n",
    "    f\"docker cp ./input {container_id}:/stella_vslam_examples/build/input\",\n",
    "    shell=True\n",
    ")"
   ]
  },
  {
   "cell_type": "code",
   "execution_count": 20,
   "metadata": {},
   "outputs": [
    {
     "data": {
      "text/plain": [
       "CompletedProcess(args='docker exec 6ab7becb1dfb curl -sL \"https://github.com/stella-cv/FBoW_orb_vocab/raw/main/orb_vocab.fbow\" -o orb_vocab.fbow', returncode=0)"
      ]
     },
     "execution_count": 20,
     "metadata": {},
     "output_type": "execute_result"
    }
   ],
   "source": [
    "# repair the container\n",
    "subprocess.run(\n",
    "    f\"docker exec {container_id} mkdir output\",\n",
    "    shell=True\n",
    ")\n",
    "subprocess.run(\n",
    "    f'docker exec {container_id} curl -sL \"https://github.com/stella-cv/FBoW_orb_vocab/raw/main/orb_vocab.fbow\" -o orb_vocab.fbow',\n",
    "    shell=True\n",
    ")\n"
   ]
  },
  {
   "cell_type": "code",
   "execution_count": 24,
   "metadata": {},
   "outputs": [
    {
     "name": "stdout",
     "output_type": "stream",
     "text": [
      "[2025-01-04 04:45:26.706] [I] config file loaded: ./input/config.yaml\n",
      "[2025-01-04 04:45:26.706] [I] \n",
      "original version of OpenVSLAM,\n",
      "Copyright (C) 2019,\n",
      "National Institute of Advanced Industrial Science and Technology (AIST)\n",
      "All rights reserved.\n",
      "stella_vslam (the changes after forking from OpenVSLAM),\n",
      "Copyright (C) 2022, stella-cv, All rights reserved.\n",
      "\n",
      "This is free software,\n",
      "and you are welcome to redistribute it under certain conditions.\n",
      "See the LICENSE file.\n",
      "\n",
      "Camera:\n",
      "  name: RICOH THETA S 960\n",
      "  setup: monocular\n",
      "  model: equirectangular\n",
      "  fps: 30.0\n",
      "  cols: 1280\n",
      "  rows: 720\n",
      "  color_order: RGB\n",
      "  baseline: 0.1\n",
      "Feature.max_num_keypoints: 2000\n",
      "Feature.scale_factor: 1.2\n",
      "Feature.num_levels: 8\n",
      "Feature.ini_fast_threshold: 20\n",
      "Feature.min_fast_threshold: 7\n",
      "Feature.mask_rectangles:\n",
      "  - [0.0, 1.0, 0.0, 0.1]\n",
      "  - [0.0, 1.0, 0.84, 1.0]\n",
      "  - [0.0, 0.2, 0.7, 1.0]\n",
      "  - [0.8, 1.0, 0.7, 1.0]\n",
      "\n",
      "[2025-01-04 04:45:26.706] [I] loading ORB vocabulary: ./orb_vocab.fbow\n",
      "[2025-01-04 04:45:26.720] [I] load orb_params \"default ORB feature extraction setting\"\n",
      "[2025-01-04 04:45:26.723] [I] startup SLAM system\n",
      "[2025-01-04 04:45:26.723] [I] start mapping module\n",
      "[2025-01-04 04:45:26.723] [I] start global optimization module\n",
      "[2025-01-04 04:45:26.957] [I] initialization succeeded with E\n",
      "[2025-01-04 04:45:26.968] [I] new map created with 169 points: frame 0 - frame 2\n",
      "[2025-01-04 04:45:27.510] [I] local map tracking failed (curr_frm_=16)\n",
      "[2025-01-04 04:45:27.510] [I] tracking lost: frame 16\n",
      "[2025-01-04 04:45:27.510] [I] tracking lost within 5 sec after initialization\n",
      "[2025-01-04 04:45:27.510] [I] resetting system\n",
      "[2025-01-04 04:45:27.511] [I] reset mapping module\n",
      "[2025-01-04 04:45:27.514] [I] reset global optimization module\n",
      "[2025-01-04 04:45:27.514] [I] clear BoW database\n",
      "[2025-01-04 04:45:27.515] [I] clear map database\n",
      "[2025-01-04 04:45:27.650] [I] initialization succeeded with E\n",
      "[2025-01-04 04:45:27.661] [I] new map created with 137 points: frame 17 - frame 19\n",
      "[2025-01-04 04:49:32.202] [I] terminate mapping module\n",
      "[2025-01-04 04:49:32.202] [I] terminate global optimization module\n",
      "[2025-01-04 04:49:32.202] [I] shutdown SLAM system\n",
      "[2025-01-04 04:49:32.207] [I] dump frame trajectory in \"TUM\" format from frame 17 to frame 3899 (3882 frames)\n",
      "[2025-01-04 04:49:32.207] [W] frame(s) from 18 to 18 was/were skipped\n",
      "[2025-01-04 04:49:32.223] [I] dump keyframe trajectory in \"TUM\" format from keyframe 0 to keyframe 81 (58 keyframes)\n",
      "median tracking time: 0.0468519[s]\n",
      "mean tracking time: 0.0480981[s]\n",
      "[2025-01-04 04:49:32.229] [I] encoding 1 camera(s) to store\n",
      "[2025-01-04 04:49:32.229] [I] encoding 1 orb_params to store\n",
      "[2025-01-04 04:49:32.229] [I] encoding 58 keyframes to store\n",
      "[2025-01-04 04:49:32.636] [I] encoding 3563 landmarks to store\n",
      "[2025-01-04 04:49:32.748] [I] save the MessagePack file of database to map.msg\n",
      "[2025-01-04 04:49:32.993] [I] clear BoW database\n",
      "[2025-01-04 04:49:33.069] [I] clear map database\n"
     ]
    },
    {
     "data": {
      "text/plain": [
       "CompletedProcess(args='docker exec 6ab7becb1dfb ./run_video_slam     -v ./orb_vocab.fbow     -c ./input/config.yaml     -m ./input/tokyo_0800_1010.mp4     --map-db-out map.msg     --no-sleep     --eval-log-dir output     --start-timestamp 0', returncode=0)"
      ]
     },
     "execution_count": 24,
     "metadata": {},
     "output_type": "execute_result"
    }
   ],
   "source": [
    "# run the container\n",
    "subprocess.run(\n",
    "    f\"docker exec {container_id} ./run_video_slam \\\n",
    "    -v ./orb_vocab.fbow \\\n",
    "    -c ./input/config.yaml \\\n",
    "    -m ./input/{video_name} \\\n",
    "    --map-db-out map.msg \\\n",
    "    --no-sleep \\\n",
    "    --eval-log-dir output \\\n",
    "    --start-timestamp 0\",\n",
    "    shell=True\n",
    ")\n"
   ]
  },
  {
   "cell_type": "code",
   "execution_count": 25,
   "metadata": {},
   "outputs": [
    {
     "data": {
      "text/plain": [
       "CompletedProcess(args='docker cp 6ab7becb1dfb:/stella_vslam_examples/build/output .', returncode=0)"
      ]
     },
     "execution_count": 25,
     "metadata": {},
     "output_type": "execute_result"
    }
   ],
   "source": [
    "subprocess.run(\n",
    "    f\"docker cp {container_id}:/stella_vslam_examples/build/output .\",\n",
    "    shell=True\n",
    ")"
   ]
  },
  {
   "cell_type": "code",
   "execution_count": null,
   "metadata": {},
   "outputs": [],
   "source": [
    "# visualize animation\n",
    "# run animation.py"
   ]
  }
 ],
 "metadata": {
  "kernelspec": {
   "display_name": "venv",
   "language": "python",
   "name": "python3"
  },
  "language_info": {
   "codemirror_mode": {
    "name": "ipython",
    "version": 3
   },
   "file_extension": ".py",
   "mimetype": "text/x-python",
   "name": "python",
   "nbconvert_exporter": "python",
   "pygments_lexer": "ipython3",
   "version": "3.12.3"
  }
 },
 "nbformat": 4,
 "nbformat_minor": 2
}

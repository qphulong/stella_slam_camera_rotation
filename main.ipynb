{
 "cells": [
  {
   "cell_type": "code",
   "execution_count": 1,
   "metadata": {},
   "outputs": [
    {
     "name": "stdout",
     "output_type": "stream",
     "text": [
      "Requirement already satisfied: opencv-python in ./venv/lib/python3.12/site-packages (4.10.0.84)\n",
      "Requirement already satisfied: opencv-python-headless in ./venv/lib/python3.12/site-packages (4.10.0.84)\n",
      "Requirement already satisfied: numpy>=1.21.2 in ./venv/lib/python3.12/site-packages (from opencv-python) (2.2.1)\n",
      "pip 24.0 from /home/qphulong/workspace/stella_slam_camera_rotation/venv/lib/python3.12/site-packages/pip (python 3.12)\n"
     ]
    }
   ],
   "source": [
    "!pip install opencv-python opencv-python-headless\n",
    "!pip --version"
   ]
  },
  {
   "cell_type": "code",
   "execution_count": 2,
   "metadata": {},
   "outputs": [],
   "source": [
    "import subprocess\n",
    "def run_shell_command(command):\n",
    "    \"\"\"Helper function to run shell commands and handle errors.\"\"\"\n",
    "    result = subprocess.run(command, capture_output=True, text=True, shell=True)\n",
    "    if result.returncode != 0:\n",
    "        print(f\"Error: {result.stderr}\")\n",
    "    return result.stdout"
   ]
  },
  {
   "cell_type": "code",
   "execution_count": 3,
   "metadata": {},
   "outputs": [],
   "source": [
    "# run this command to start the container\n",
    "command = \"docker run -it --rm --privileged -e DISPLAY=$DISPLAY -v /tmp/.X11-unix/:/tmp/.X11-unix:ro stella_vslam-iridescense\""
   ]
  },
  {
   "cell_type": "code",
   "execution_count": 3,
   "metadata": {},
   "outputs": [
    {
     "name": "stdout",
     "output_type": "stream",
     "text": [
      "Getting the first Docker container ID...\n",
      "Container ID: a68d8dde2c37\n"
     ]
    }
   ],
   "source": [
    "# get the container id\n",
    "import subprocess\n",
    "print(\"Getting the first Docker container ID...\")\n",
    "container_id = subprocess.check_output(\"docker ps -q\", shell=True).decode().strip()\n",
    "print(f\"Container ID: {container_id}\")"
   ]
  },
  {
   "cell_type": "code",
   "execution_count": 4,
   "metadata": {},
   "outputs": [
    {
     "name": "stdout",
     "output_type": "stream",
     "text": [
      "Video name: asdasd.mp4\n"
     ]
    }
   ],
   "source": [
    "# get video name\n",
    "import os\n",
    "\n",
    "# Path to the input directory\n",
    "input_dir = './input/'\n",
    "\n",
    "# List all files in the directory\n",
    "files = [f for f in os.listdir(input_dir) if f.endswith('.mp4')]\n",
    "\n",
    "# Check if there is exactly one .mp4 file\n",
    "if len(files) == 1:\n",
    "    # Store the name of the .mp4 file\n",
    "    video_name = files[0]\n",
    "    print(f\"Video name: {video_name}\")\n",
    "else:\n",
    "    # Raise an error if the condition is not met\n",
    "    raise ValueError(\"The directory must contain exactly one .mp4 file.\")\n"
   ]
  },
  {
   "cell_type": "code",
   "execution_count": 5,
   "metadata": {},
   "outputs": [
    {
     "name": "stdout",
     "output_type": "stream",
     "text": [
      "{'fps': 29.97, 'cols': 1920, 'rows': 1080}\n"
     ]
    }
   ],
   "source": [
    "import ffmpeg\n",
    "\n",
    "# Function to extract video metadata using ffmpeg\n",
    "def extract_video_metadata(video_path):\n",
    "    # Use ffmpeg.probe to retrieve metadata of the video\n",
    "    probe = ffmpeg._probe.probe(video_path, v='error', select_streams='v:0', show_entries='stream=width,height,r_frame_rate')\n",
    "    \n",
    "    # Extract relevant metadata from the probe results\n",
    "    video_stream = probe['streams'][0]\n",
    "    \n",
    "    # Extract FPS, width (cols), and height (rows)\n",
    "    fps = eval(video_stream['r_frame_rate'])  # 'r_frame_rate' is in the form of \"numerator/denominator\"\n",
    "    cols = video_stream['width']\n",
    "    rows = video_stream['height']\n",
    "    \n",
    "    return {\n",
    "        'fps': fps,\n",
    "        'cols': cols,\n",
    "        'rows': rows\n",
    "    }\n",
    "# Extract metadata\n",
    "video_metadata = extract_video_metadata('./input/'+video_name)\n",
    "print(video_metadata)\n"
   ]
  },
  {
   "cell_type": "code",
   "execution_count": 6,
   "metadata": {},
   "outputs": [
    {
     "name": "stdout",
     "output_type": "stream",
     "text": [
      "YAML file has been created at ./input/config.yaml\n"
     ]
    }
   ],
   "source": [
    "import yaml\n",
    "yaml_content = f\"\"\"\n",
    "# Equirectangular model for RICOH THETA S\n",
    "\n",
    "#==============#\n",
    "# Camera Model #\n",
    "#==============#\n",
    "\n",
    "Camera:\n",
    "  name: \"RICOH THETA S 960\"\n",
    "  setup: \"monocular\"\n",
    "  model: \"equirectangular\"  # Ensure this matches your camera's model\n",
    "  fps: {video_metadata['fps']}\n",
    "  cols:  {video_metadata['cols']}\n",
    "  rows:  {video_metadata['rows']}\n",
    "  color_order: \"RGB\"\n",
    "  # k1: 0.0\n",
    "  # k2: 0.0\n",
    "  # k3: 0.0\n",
    "  # p1: 0.0\n",
    "  # p2: 0.0\n",
    "  # fx: 500.0                           # Focal length in the x-direction\n",
    "  # fy: 500.0                           # Focal length in the y-direction\n",
    "  # cx: 960.0                           # Principal point x-coordinate (center of the image)\n",
    "  # cy: 540.0\n",
    "  baseline: 0.1   \n",
    "\n",
    "#================#\n",
    "# ORB Parameters #\n",
    "#================#\n",
    "\n",
    "Feature.max_num_keypoints: 2000\n",
    "Feature.scale_factor: 1.2\n",
    "Feature.num_levels: 8\n",
    "Feature.ini_fast_threshold: 20\n",
    "Feature.min_fast_threshold: 7\n",
    "Feature.mask_rectangles:\n",
    "  - [0.0, 1.0, 0.0, 0.1]\n",
    "  - [0.0, 1.0, 0.84, 1.0]\n",
    "  - [0.0, 0.2, 0.7, 1.0]\n",
    "  - [0.8, 1.0, 0.7, 1.0]\n",
    "\"\"\"\n",
    "\n",
    "# Write the content to a file\n",
    "file_path = './input/config.yaml'\n",
    "\n",
    "with open(file_path, 'w') as file:\n",
    "    file.write(yaml_content)\n",
    "\n",
    "print(f\"YAML file has been created at {file_path}\")\n"
   ]
  },
  {
   "cell_type": "code",
   "execution_count": 7,
   "metadata": {},
   "outputs": [
    {
     "name": "stdout",
     "output_type": "stream",
     "text": [
      "Copying inputs to container a68d8dde2c37...\n"
     ]
    },
    {
     "data": {
      "text/plain": [
       "CompletedProcess(args='docker cp ./input a68d8dde2c37:/stella_vslam_examples/build/input', returncode=0)"
      ]
     },
     "execution_count": 7,
     "metadata": {},
     "output_type": "execute_result"
    }
   ],
   "source": [
    "# copy video and config to container\n",
    "print(f\"Copying inputs to container {container_id}...\")\n",
    "subprocess.run(\n",
    "    f\"docker cp ./input {container_id}:/stella_vslam_examples/build/input\",\n",
    "    shell=True\n",
    ")"
   ]
  },
  {
   "cell_type": "code",
   "execution_count": 8,
   "metadata": {},
   "outputs": [
    {
     "data": {
      "text/plain": [
       "CompletedProcess(args='docker exec a68d8dde2c37 curl -sL \"https://github.com/stella-cv/FBoW_orb_vocab/raw/main/orb_vocab.fbow\" -o orb_vocab.fbow', returncode=0)"
      ]
     },
     "execution_count": 8,
     "metadata": {},
     "output_type": "execute_result"
    }
   ],
   "source": [
    "# repair the container\n",
    "subprocess.run(\n",
    "    f\"docker exec {container_id} mkdir output\",\n",
    "    shell=True\n",
    ")\n",
    "subprocess.run(\n",
    "    f'docker exec {container_id} curl -sL \"https://github.com/stella-cv/FBoW_orb_vocab/raw/main/orb_vocab.fbow\" -o orb_vocab.fbow',\n",
    "    shell=True\n",
    ")"
   ]
  },
  {
   "cell_type": "code",
   "execution_count": 9,
   "metadata": {},
   "outputs": [
    {
     "name": "stdout",
     "output_type": "stream",
     "text": [
      "[2025-01-11 14:50:19.452] [I] config file loaded: ./input/config.yaml\n",
      "[2025-01-11 14:50:19.452] [I] \n",
      "original version of OpenVSLAM,\n",
      "Copyright (C) 2019,\n",
      "National Institute of Advanced Industrial Science and Technology (AIST)\n",
      "All rights reserved.\n",
      "stella_vslam (the changes after forking from OpenVSLAM),\n",
      "Copyright (C) 2022, stella-cv, All rights reserved.\n",
      "\n",
      "This is free software,\n",
      "and you are welcome to redistribute it under certain conditions.\n",
      "See the LICENSE file.\n",
      "\n",
      "Camera:\n",
      "  name: RICOH THETA S 960\n",
      "  setup: monocular\n",
      "  model: equirectangular\n",
      "  fps: 29.97\n",
      "  cols: 1920\n",
      "  rows: 1080\n",
      "  color_order: RGB\n",
      "  baseline: 0.1\n",
      "Feature.max_num_keypoints: 2000\n",
      "Feature.scale_factor: 1.2\n",
      "Feature.num_levels: 8\n",
      "Feature.ini_fast_threshold: 20\n",
      "Feature.min_fast_threshold: 7\n",
      "Feature.mask_rectangles:\n",
      "  - [0.0, 1.0, 0.0, 0.1]\n",
      "  - [0.0, 1.0, 0.84, 1.0]\n",
      "  - [0.0, 0.2, 0.7, 1.0]\n",
      "  - [0.8, 1.0, 0.7, 1.0]\n",
      "\n",
      "[2025-01-11 14:50:19.452] [I] loading ORB vocabulary: ./orb_vocab.fbow\n",
      "[2025-01-11 14:50:19.464] [I] load orb_params \"default ORB feature extraction setting\"\n",
      "[2025-01-11 14:50:19.469] [I] startup SLAM system\n",
      "[2025-01-11 14:50:19.469] [I] start mapping module\n",
      "[2025-01-11 14:50:19.469] [I] start global optimization module\n",
      "[2025-01-11 14:50:18.185] [I] initialization succeeded with E\n",
      "[2025-01-11 14:50:18.205] [I] new map created with 185 points: frame 0 - frame 2\n",
      "[2025-01-11 14:50:18.742] [I] local map tracking failed (curr_frm_=8)\n",
      "[2025-01-11 14:50:18.742] [I] tracking lost: frame 8\n",
      "[2025-01-11 14:50:18.742] [I] tracking lost within 5 sec after initialization\n",
      "[2025-01-11 14:50:18.742] [I] resetting system\n",
      "[2025-01-11 14:50:18.742] [I] reset mapping module\n",
      "[2025-01-11 14:50:18.746] [I] reset global optimization module\n",
      "[2025-01-11 14:50:18.746] [I] clear BoW database\n",
      "[2025-01-11 14:50:18.747] [I] clear map database\n",
      "[2025-01-11 14:50:18.958] [I] initialization succeeded with E\n",
      "[2025-01-11 14:50:18.993] [I] new map created with 225 points: frame 9 - frame 10\n",
      "[2025-01-11 14:50:19.720] [I] local map tracking failed (curr_frm_=17)\n",
      "[2025-01-11 14:50:19.720] [I] tracking lost: frame 17\n",
      "[2025-01-11 14:50:19.720] [I] tracking lost within 5 sec after initialization\n",
      "[2025-01-11 14:50:19.720] [I] resetting system\n",
      "[2025-01-11 14:50:19.720] [I] reset mapping module\n",
      "[2025-01-11 14:50:19.722] [I] reset global optimization module\n",
      "[2025-01-11 14:50:19.722] [I] clear BoW database\n",
      "[2025-01-11 14:50:19.724] [I] clear map database\n",
      "[2025-01-11 14:50:19.913] [I] initialization succeeded with E\n",
      "[2025-01-11 14:50:19.941] [I] new map created with 231 points: frame 18 - frame 19\n",
      "[2025-01-11 14:50:20.757] [I] local map tracking failed (curr_frm_=29)\n",
      "[2025-01-11 14:50:20.757] [I] tracking lost: frame 29\n",
      "[2025-01-11 14:50:20.757] [I] tracking lost within 5 sec after initialization\n",
      "[2025-01-11 14:50:20.757] [I] resetting system\n",
      "[2025-01-11 14:50:20.761] [I] reset global optimization module\n",
      "[2025-01-11 14:50:20.762] [I] reset mapping module\n",
      "[2025-01-11 14:50:20.763] [I] clear BoW database\n",
      "[2025-01-11 14:50:20.764] [I] clear map database\n",
      "[2025-01-11 14:50:20.947] [I] initialization succeeded with E\n",
      "[2025-01-11 14:50:20.976] [I] new map created with 223 points: frame 30 - frame 31\n",
      "[2025-01-11 14:57:46.011] [I] terminate global optimization module\n",
      "[2025-01-11 14:57:46.011] [I] terminate mapping module\n",
      "[2025-01-11 14:57:46.012] [I] shutdown SLAM system\n",
      "[2025-01-11 14:57:46.018] [I] dump frame trajectory in \"TUM\" format from frame 30 to frame 4494 (4465 frames)\n",
      "[2025-01-11 14:57:46.037] [I] dump keyframe trajectory in \"TUM\" format from keyframe 0 to keyframe 151 (145 keyframes)\n",
      "median tracking time: 0.0931361[s]\n",
      "mean tracking time: 0.100927[s]\n",
      "[2025-01-11 14:57:46.044] [I] encoding 1 camera(s) to store\n",
      "[2025-01-11 14:57:46.044] [I] encoding 1 orb_params to store\n",
      "[2025-01-11 14:57:46.044] [I] encoding 145 keyframes to store\n",
      "[2025-01-11 14:57:47.853] [I] encoding 12681 landmarks to store\n",
      "[2025-01-11 14:57:48.471] [I] save the MessagePack file of database to map.msg\n",
      "[2025-01-11 14:57:49.593] [I] clear BoW database\n",
      "[2025-01-11 14:57:50.201] [I] clear map database\n"
     ]
    },
    {
     "data": {
      "text/plain": [
       "CompletedProcess(args='docker exec a68d8dde2c37 ./run_video_slam     -v ./orb_vocab.fbow     -c ./input/config.yaml     -m ./input/asdasd.mp4     --map-db-out map.msg     --no-sleep     --eval-log-dir output     --start-timestamp 0', returncode=0)"
      ]
     },
     "execution_count": 9,
     "metadata": {},
     "output_type": "execute_result"
    }
   ],
   "source": [
    "# run the container\n",
    "subprocess.run(\n",
    "    f\"docker exec {container_id} ./run_video_slam \\\n",
    "    -v ./orb_vocab.fbow \\\n",
    "    -c ./input/config.yaml \\\n",
    "    -m ./input/{video_name} \\\n",
    "    --map-db-out map.msg \\\n",
    "    --no-sleep \\\n",
    "    --eval-log-dir output \\\n",
    "    --start-timestamp 0\",\n",
    "    shell=True\n",
    ")\n"
   ]
  },
  {
   "cell_type": "code",
   "execution_count": 10,
   "metadata": {},
   "outputs": [
    {
     "data": {
      "text/plain": [
       "CompletedProcess(args='docker cp a68d8dde2c37:/stella_vslam_examples/build/output .', returncode=0)"
      ]
     },
     "execution_count": 10,
     "metadata": {},
     "output_type": "execute_result"
    }
   ],
   "source": [
    "subprocess.run(\n",
    "    f\"docker cp {container_id}:/stella_vslam_examples/build/output .\",\n",
    "    shell=True\n",
    ")"
   ]
  },
  {
   "cell_type": "code",
   "execution_count": null,
   "metadata": {},
   "outputs": [],
   "source": [
    "# visualize animation\n",
    "# run animation.py"
   ]
  }
 ],
 "metadata": {
  "kernelspec": {
   "display_name": "venv",
   "language": "python",
   "name": "python3"
  },
  "language_info": {
   "codemirror_mode": {
    "name": "ipython",
    "version": 3
   },
   "file_extension": ".py",
   "mimetype": "text/x-python",
   "name": "python",
   "nbconvert_exporter": "python",
   "pygments_lexer": "ipython3",
   "version": "3.12.3"
  }
 },
 "nbformat": 4,
 "nbformat_minor": 2
}
